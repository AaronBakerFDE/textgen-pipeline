{
 "cells": [
  {
   "cell_type": "code",
   "execution_count": 8,
   "id": "863e77f7",
   "metadata": {},
   "outputs": [
    {
     "name": "stderr",
     "output_type": "stream",
     "text": [
      "C:\\Users\\abaker\\AppData\\Local\\Temp\\ipykernel_19544\\1842851321.py:4: DtypeWarning: Columns (18) have mixed types. Specify dtype option on import or set low_memory=False.\n",
      "  afi_data = pd.read_csv(\"C:\\\\Users\\\\abaker\\\\OneDrive - Factory Direct of Edison\\\\Desktop\\\\textgen-pipeline\\\\sandbox\\\\data\\\\api_entities.csv\")\n",
      "C:\\Users\\abaker\\AppData\\Local\\Temp\\ipykernel_19544\\1842851321.py:5: DtypeWarning: Columns (13,14,16,22,32,37,40,47,69,72,96,97,99,101,149,179,180,189,190,191,192,193,194,197,203,204,219,225,226,230,234,242,244) have mixed types. Specify dtype option on import or set low_memory=False.\n",
      "  storis_data = pd.read_csv(\"C:\\\\Users\\\\abaker\\\\OneDrive - Factory Direct of Edison\\\\Desktop\\\\textgen-pipeline\\\\sandbox\\\\data\\\\storis_product.csv\")\n"
     ]
    }
   ],
   "source": [
    "import pandas as pd\n",
    "\n",
    "\n",
    "afi_data = pd.read_csv(\"C:\\\\Users\\\\abaker\\\\OneDrive - Factory Direct of Edison\\\\Desktop\\\\textgen-pipeline\\\\sandbox\\\\data\\\\api_entities.csv\")\n",
    "storis_data = pd.read_csv(\"C:\\\\Users\\\\abaker\\\\OneDrive - Factory Direct of Edison\\\\Desktop\\\\textgen-pipeline\\\\sandbox\\\\data\\\\storis_product.csv\")"
   ]
  },
  {
   "cell_type": "code",
   "execution_count": 16,
   "id": "3b0c2b68",
   "metadata": {},
   "outputs": [],
   "source": [
    "merged_df = pd.merge(afi_data, \n",
    "                     storis_data, \n",
    "                     left_on = \"sku\", \n",
    "                     right_on = \"ProductID\", \n",
    "                     how = \"inner\", \n",
    "                     suffixes=('_afi', '_storis'))\n",
    "\n",
    "merged_df = merged_df[['itemName','itemSeriesName','color','consumerAssembly','detailedDescription','friendlyDescription','itemCode','itemGeneralLongDescription','seriesFeatures','homestoreProductLine','importDomestic']]\n",
    "\n",
    "merged_df = merged_df.rename(columns={\n",
    "    'itemName': 'item_name',\n",
    "    'itemSeriesName': 'item_series_name',\n",
    "    'color': 'color',\n",
    "    'consumerAssembly': 'consumer_assembly',\n",
    "    'detailedDescription': 'detailed_description',\n",
    "    'friendlyDescription': 'friendly_description',\n",
    "    'itemCode': 'item_code',\n",
    "    'itemGeneralLongDescription': 'item_general_description',\n",
    "    'seriesFeatures': 'seo_features_and_keywords',\n",
    "    'homestoreProductLine': 'homestore_product_line',\n",
    "    'importDomestic': 'import_domestic'})"
   ]
  },
  {
   "cell_type": "code",
   "execution_count": 17,
   "id": "effe7894",
   "metadata": {},
   "outputs": [],
   "source": [
    "top_100 = merged_df.head(100)\n",
    "top_100.to_csv(\"afi_storis_merged_top_100.csv\", index=False)"
   ]
  }
 ],
 "metadata": {
  "kernelspec": {
   "display_name": "Python 3",
   "language": "python",
   "name": "python3"
  },
  "language_info": {
   "codemirror_mode": {
    "name": "ipython",
    "version": 3
   },
   "file_extension": ".py",
   "mimetype": "text/x-python",
   "name": "python",
   "nbconvert_exporter": "python",
   "pygments_lexer": "ipython3",
   "version": "3.14.0"
  }
 },
 "nbformat": 4,
 "nbformat_minor": 5
}
