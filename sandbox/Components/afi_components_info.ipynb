{
 "cells": [
  {
   "cell_type": "code",
   "execution_count": 1,
   "id": "0d8e009f",
   "metadata": {},
   "outputs": [],
   "source": [
    "import pandas as pd"
   ]
  },
  {
   "cell_type": "code",
   "execution_count": 2,
   "id": "b4a6a47e",
   "metadata": {},
   "outputs": [
    {
     "name": "stderr",
     "output_type": "stream",
     "text": [
      "C:\\Users\\abaker\\AppData\\Local\\Temp\\ipykernel_34420\\2307257669.py:1: DtypeWarning: Columns (18) have mixed types. Specify dtype option on import or set low_memory=False.\n",
      "  df = pd.read_csv(\"C:\\\\Users\\\\abaker\\\\OneDrive - Factory Direct of Edison\\\\Desktop\\\\textgen-pipeline\\\\sandbox\\\\data\\\\api_entities.csv\")\n"
     ]
    }
   ],
   "source": [
    "df = pd.read_csv(\"C:\\\\Users\\\\abaker\\\\OneDrive - Factory Direct of Edison\\\\Desktop\\\\textgen-pipeline\\\\sandbox\\\\data\\\\api_entities.csv\")"
   ]
  },
  {
   "cell_type": "code",
   "execution_count": 3,
   "id": "1cbe99fa",
   "metadata": {},
   "outputs": [],
   "source": [
    "#Cleaning UPC for Joining\n",
    "\n",
    "df['upc'] = (\n",
    "    df['upc']\n",
    "    .astype(str)                              # ensure string\n",
    "    .str.replace(r\"[^0-9]\", \"\", regex=True)   # keep only digits\n",
    "    .str.lstrip(\"0\")                          # remove leading zeros\n",
    ")\n",
    "\n",
    "# convert to integer, coercing empty strings to NaN\n",
    "df['upc'] = pd.to_numeric(df['upc'], errors='coerce').astype('Int64')\n"
   ]
  },
  {
   "cell_type": "code",
   "execution_count": 4,
   "id": "b00d5669",
   "metadata": {},
   "outputs": [],
   "source": [
    "afi_kits = df[df['itemType'] == 'Kit'][['itemName','seriesId','sku','itemCode','color','status','upc']]\n",
    "afi_items = df[df['itemType'] == 'Item'][['itemName','seriesId','sku','itemCode','color','status','upc']]\n",
    "afi_components = df[df['itemType'] == 'Component'][['itemName','seriesId','sku','itemCode','color','status','upc']]\n",
    "afi_bundles = df[df['itemType'] == 'Room Bundle'][['itemName','seriesId','sku','itemCode','color','status','upc']]"
   ]
  },
  {
   "cell_type": "markdown",
   "id": "066bcd7d",
   "metadata": {},
   "source": [
    "Kits and Bundles do not have a UPC code \n",
    "Items and Components do have a UPC code"
   ]
  }
 ],
 "metadata": {
  "kernelspec": {
   "display_name": "Python 3",
   "language": "python",
   "name": "python3"
  },
  "language_info": {
   "codemirror_mode": {
    "name": "ipython",
    "version": 3
   },
   "file_extension": ".py",
   "mimetype": "text/x-python",
   "name": "python",
   "nbconvert_exporter": "python",
   "pygments_lexer": "ipython3",
   "version": "3.14.0"
  }
 },
 "nbformat": 4,
 "nbformat_minor": 5
}
