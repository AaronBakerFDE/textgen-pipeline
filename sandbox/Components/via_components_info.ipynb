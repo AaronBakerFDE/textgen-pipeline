{
 "cells": [
  {
   "cell_type": "code",
   "execution_count": 1,
   "id": "864a21aa",
   "metadata": {},
   "outputs": [],
   "source": [
    "import pandas as pd"
   ]
  },
  {
   "cell_type": "code",
   "execution_count": 2,
   "id": "d9148df9",
   "metadata": {},
   "outputs": [],
   "source": [
    "df = pd.read_csv('C:\\\\Users\\\\abaker\\\\OneDrive - Factory Direct of Edison\\\\Desktop\\\\textgen-pipeline\\\\sandbox\\\\data\\\\via_product.csv')"
   ]
  },
  {
   "cell_type": "code",
   "execution_count": 3,
   "id": "504b7ec9",
   "metadata": {},
   "outputs": [],
   "source": [
    "df['BarCodeNbr'] = (\n",
    "    df['BarCodeNbr']\n",
    "    .astype(str)                              # ensure string\n",
    "    .str.replace(r\"[^0-9]\", \"\", regex=True)   # keep only digits\n",
    "    .str.lstrip(\"0\")                          # remove leading zeros\n",
    ")\n",
    "\n",
    "# convert to integer, coercing empty strings to NaN\n",
    "df['BarCodeNbr'] = pd.to_numeric(df['BarCodeNbr'], errors='coerce').astype('Int64')\n",
    "\n",
    "df['ItemName'] = df['SeriesName'] + ' ' + df['Description']\n",
    "df = df.rename(columns={'ItemNumber' : 'sku', 'Category': 'itemCode'})"
   ]
  },
  {
   "cell_type": "code",
   "execution_count": 4,
   "id": "deeefaea",
   "metadata": {},
   "outputs": [],
   "source": [
    "via_kits = df[df['ItemType'] == 'Kit'][['ItemName','SeriesID','sku','itemCode','Color','Status','BarCodeNbr']]\n",
    "via_items = df[df['ItemType'] == 'Item'][['ItemName','SeriesID','sku','itemCode','Color','Status','BarCodeNbr']]\n",
    "via_components = df[df['ItemType'] == 'Component'][['ItemName','SeriesID','sku','itemCode','Color','Status','BarCodeNbr']]\n",
    "via_bundles = df[df['ItemType'] == 'Room Bundle'][['ItemName','SeriesID','sku','itemCode','Color','Status','BarCodeNbr']]"
   ]
  },
  {
   "cell_type": "markdown",
   "id": "b7e9ac0a",
   "metadata": {},
   "source": [
    "VIA does not have bundles \n"
   ]
  }
 ],
 "metadata": {
  "kernelspec": {
   "display_name": "Python 3",
   "language": "python",
   "name": "python3"
  },
  "language_info": {
   "codemirror_mode": {
    "name": "ipython",
    "version": 3
   },
   "file_extension": ".py",
   "mimetype": "text/x-python",
   "name": "python",
   "nbconvert_exporter": "python",
   "pygments_lexer": "ipython3",
   "version": "3.14.0"
  }
 },
 "nbformat": 4,
 "nbformat_minor": 5
}
