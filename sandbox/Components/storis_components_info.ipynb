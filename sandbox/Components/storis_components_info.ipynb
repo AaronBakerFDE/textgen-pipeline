{
 "cells": [
  {
   "cell_type": "code",
   "execution_count": 1,
   "id": "1958e5aa",
   "metadata": {},
   "outputs": [],
   "source": [
    "import pandas as pd"
   ]
  },
  {
   "cell_type": "code",
   "execution_count": 2,
   "id": "c940edc3",
   "metadata": {},
   "outputs": [
    {
     "name": "stderr",
     "output_type": "stream",
     "text": [
      "C:\\Users\\abaker\\AppData\\Local\\Temp\\ipykernel_2692\\26539817.py:1: DtypeWarning: Columns (13,14,16,22,32,37,40,47,69,72,96,97,99,101,149,179,180,189,190,191,192,193,194,197,203,204,219,225,226,230,234,242,244) have mixed types. Specify dtype option on import or set low_memory=False.\n",
      "  df = pd.read_csv('C:\\\\Users\\\\abaker\\\\OneDrive - Factory Direct of Edison\\\\Desktop\\\\textgen-pipeline\\\\sandbox\\\\data\\\\storis_product.csv')\n"
     ]
    }
   ],
   "source": [
    "df = pd.read_csv('C:\\\\Users\\\\abaker\\\\OneDrive - Factory Direct of Edison\\\\Desktop\\\\textgen-pipeline\\\\sandbox\\\\data\\\\storis_product.csv')\n",
    "df = df[df['BrandID']== 'ASHLE']"
   ]
  },
  {
   "cell_type": "code",
   "execution_count": 3,
   "id": "a45dfc4a",
   "metadata": {},
   "outputs": [
    {
     "name": "stdout",
     "output_type": "stream",
     "text": [
      "    length  count          example\n",
      "0        3      1              CAP\n",
      "1        4      4             1833\n",
      "2        5     30            100-1\n",
      "3        6   6640           100-10\n",
      "4        7  43235          100-100\n",
      "5        8  16225         1080129C\n",
      "6        9   6151        1610129W2\n",
      "7       10   1251       12020EVC01\n",
      "8       11     45      2870116030C\n",
      "9       12     15     402MECHZCMKR\n",
      "10      13     15    APG-B2588-FPB\n",
      "11      14      2   APG-B486-NAQ5P\n",
      "12      15      1  APK-Nitish-2P-S\n"
     ]
    }
   ],
   "source": [
    "df = df.rename(columns={'ProductID' : 'seriesId'})\n",
    "df[\"formattedId\"] = df[\"seriesId\"].astype(str).str.replace(r\"^([A-Z]\\d+)B(\\d+)$\", r\"\\1-\\2\", regex=True)\n",
    "\n",
    "df['seriesId'].str.len().value_counts()\n",
    "\n",
    "df['length'] = df['seriesId'].str.len()\n",
    "\n",
    "summary = (\n",
    "    df.groupby('length')['seriesId']\n",
    "      .agg(count='count', example=lambda x: x.iloc[0])\n",
    "      .reset_index()\n",
    "      .sort_values('length')\n",
    ")\n",
    "\n",
    "print(summary)\n",
    "\n",
    "#Need 5,6,7\n",
    "\n"
   ]
  }
 ],
 "metadata": {
  "kernelspec": {
   "display_name": "Python 3",
   "language": "python",
   "name": "python3"
  },
  "language_info": {
   "codemirror_mode": {
    "name": "ipython",
    "version": 3
   },
   "file_extension": ".py",
   "mimetype": "text/x-python",
   "name": "python",
   "nbconvert_exporter": "python",
   "pygments_lexer": "ipython3",
   "version": "3.14.0"
  }
 },
 "nbformat": 4,
 "nbformat_minor": 5
}
