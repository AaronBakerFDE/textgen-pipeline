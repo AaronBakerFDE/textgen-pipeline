{
 "cells": [
  {
   "cell_type": "code",
   "execution_count": 1,
   "id": "d53d1077",
   "metadata": {},
   "outputs": [
    {
     "name": "stderr",
     "output_type": "stream",
     "text": [
      "C:\\Users\\abaker\\AppData\\Local\\Temp\\ipykernel_29376\\617524382.py:3: DtypeWarning: Columns (18) have mixed types. Specify dtype option on import or set low_memory=False.\n",
      "  afi_df = pd.read_csv(\"C:\\\\Users\\\\abaker\\\\OneDrive - Factory Direct of Edison\\\\Desktop\\\\textgen-pipeline\\\\data\\\\bronze\\\\api_entities.csv\")\n"
     ]
    }
   ],
   "source": [
    "import pandas as pd\n",
    "\n",
    "afi_df = pd.read_csv(\"C:\\\\Users\\\\abaker\\\\OneDrive - Factory Direct of Edison\\\\Desktop\\\\textgen-pipeline\\\\data\\\\bronze\\\\api_entities.csv\")"
   ]
  },
  {
   "cell_type": "code",
   "execution_count": 2,
   "id": "620372cc",
   "metadata": {},
   "outputs": [
    {
     "name": "stderr",
     "output_type": "stream",
     "text": [
      "C:\\Users\\abaker\\AppData\\Local\\Temp\\ipykernel_29376\\3666099613.py:5: SettingWithCopyWarning: \n",
      "A value is trying to be set on a copy of a slice from a DataFrame.\n",
      "Try using .loc[row_indexer,col_indexer] = value instead\n",
      "\n",
      "See the caveats in the documentation: https://pandas.pydata.org/pandas-docs/stable/user_guide/indexing.html#returning-a-view-versus-a-copy\n",
      "  filtered_df['seriesRank'] = filtered_df['seriesId'].rank(method='dense').astype(int)\n"
     ]
    }
   ],
   "source": [
    "# Apply the WHERE filter\n",
    "filtered_df = afi_df[afi_df['itemType'].isin(['Component'])]\n",
    "\n",
    "# Compute DENSE_RANK over seriesId\n",
    "filtered_df['seriesRank'] = filtered_df['seriesId'].rank(method='dense').astype(int)\n",
    "\n",
    "# Select columns similar to SQL output\n",
    "afi_result = (\n",
    "    filtered_df[['seriesId', 'itemSeriesName','sku', 'status', 'friendlyDescription', 'seriesRank']]\n",
    "    .sort_values(by='seriesRank', ascending=True)\n",
    "    .reset_index(drop=True)\n",
    ")"
   ]
  },
  {
   "cell_type": "code",
   "execution_count": 4,
   "id": "4ba30531",
   "metadata": {},
   "outputs": [],
   "source": [
    "import pandas as pd\n",
    "\n",
    "# Load your data\n",
    "df = pd.read_csv(\"C:\\\\Users\\\\abaker\\\\OneDrive - Factory Direct of Edison\\\\Desktop\\\\textgen-pipeline\\\\data\\\\bronze\\\\via_tagging_translator.csv\")\n",
    "\n",
    "# Split ComponentsQTY by commas and explode\n",
    "df_exploded = df.assign(ComponentsQTY=df['ComponentsQTY'].str.split(';')) \\\n",
    "                .explode('ComponentsQTY')\n",
    "\n",
    "# Clean up spaces\n",
    "df_exploded['ComponentsQTY'] = df_exploded['ComponentsQTY'].str.strip()\n",
    "\n",
    "# Split into SKU and Quantity\n",
    "df_exploded[['ComponentSKU', 'ComponentQty']] = df_exploded['ComponentsQTY'].str.split(',', n=1, expand=True)\n",
    "\n",
    "# Convert quantity to integer\n",
    "df_exploded['ComponentQty'] = pd.to_numeric(df_exploded['ComponentQty'], errors='coerce')\n",
    "\n",
    "# Drop the original ComponentsQTY if you want\n",
    "df_exploded = df_exploded.drop(columns=['ComponentsQTY'])\n",
    "\n",
    "df_exploded = df_exploded[[\"Series ID\",\"SeriesName\",\"FDE SKU\",\"Description\",\"ComponentSKU\",\"ComponentQty\",\"Status\"]].dropna(subset=['FDE SKU'])\n",
    "\n",
    "df_exploded['seriesRank'] = df_exploded['FDE SKU'].rank(method='dense').astype(int)\n",
    "\n",
    "result_via_exploded = (\n",
    "    df_exploded.query(\"Status == 'Current'\")[[\"Series ID\",\"SeriesName\",\"Description\",\"ComponentSKU\",\"ComponentQty\",'seriesRank']]\n",
    "    .sort_values(by='seriesRank', ascending=True)\n",
    "    .reset_index(drop=True)\n",
    ")\n",
    "\n",
    "merged_df = pd.merge(result_via_exploded, afi_result[['sku', 'friendlyDescription']], left_on='ComponentSKU', right_on='sku',how = \"left\").drop(columns=['sku'])\n",
    "\n",
    "merged_df.to_csv('kit_classification_training_data.csv', index=False)\n"
   ]
  }
 ],
 "metadata": {
  "kernelspec": {
   "display_name": "Python 3",
   "language": "python",
   "name": "python3"
  },
  "language_info": {
   "codemirror_mode": {
    "name": "ipython",
    "version": 3
   },
   "file_extension": ".py",
   "mimetype": "text/x-python",
   "name": "python",
   "nbconvert_exporter": "python",
   "pygments_lexer": "ipython3",
   "version": "3.14.0"
  }
 },
 "nbformat": 4,
 "nbformat_minor": 5
}
