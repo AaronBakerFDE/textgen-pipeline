{
 "cells": [
  {
   "cell_type": "code",
   "execution_count": 1,
   "id": "6788ee68-2e7d-4ba6-a987-af4f5eac2620",
   "metadata": {},
   "outputs": [
    {
     "name": "stderr",
     "output_type": "stream",
     "text": [
      "c:\\Users\\abaker\\OneDrive - Factory Direct of Edison\\Desktop\\textgen-pipeline\\src\\bronze_ingest.py:5: DtypeWarning: Columns (13,14,16,22,32,37,40,47,69,72,96,97,99,101,149,179,180,189,190,191,192,193,194,197,203,204,219,225,226,230,234,242,244) have mixed types. Specify dtype option on import or set low_memory=False.\n",
      "  storis_data = pd.read_csv(storis_path)\n",
      "c:\\Users\\abaker\\OneDrive - Factory Direct of Edison\\Desktop\\textgen-pipeline\\src\\bronze_ingest.py:6: DtypeWarning: Columns (18) have mixed types. Specify dtype option on import or set low_memory=False.\n",
      "  afi_data = pd.read_csv(afi_path)\n"
     ]
    },
    {
     "name": "stdout",
     "output_type": "stream",
     "text": [
      "✅ Bronze layer created with 10 records\n",
      "✅ Silver layer saved at: data/silver/clean_products.csv\n"
     ]
    },
    {
     "name": "stderr",
     "output_type": "stream",
     "text": [
      "100%|██████████| 10/10 [31:47<00:00, 190.72s/it]"
     ]
    },
    {
     "name": "stdout",
     "output_type": "stream",
     "text": [
      "✅ Gold layer saved at: data/gold/final_products.csv\n"
     ]
    },
    {
     "name": "stderr",
     "output_type": "stream",
     "text": [
      "\n"
     ]
    }
   ],
   "source": [
    "import pandas as pd\n",
    "from src.utils import load_config, save_df\n",
    "from src.bronze_ingest import bronze_ingest\n",
    "from src.silver_transform import silver_transform\n",
    "from src.gold_enrich import gold_enrich\n",
    "\n",
    "def main():\n",
    "    # --- Load Config ---\n",
    "    cfg = load_config(\"config/settings_test.yaml\")  # or \"config/settings_test.yaml\"\n",
    "    \n",
    "    # --- Bronze Layer ---\n",
    "    bronze_df = bronze_ingest(\n",
    "        storis_path=cfg[\"data_paths\"][\"storis_csv\"],\n",
    "        afi_path=cfg[\"data_paths\"][\"afi_csv\"]\n",
    "    )\n",
    "    print(f\"✅ Bronze layer created with {len(bronze_df)} records\")\n",
    "\n",
    "    # --- Silver Layer ---\n",
    "    silver_df = silver_transform(bronze_df)\n",
    "    save_df(silver_df, cfg[\"data_paths\"][\"silver_output\"])\n",
    "    print(\"✅ Silver layer saved at:\", cfg[\"data_paths\"][\"silver_output\"])\n",
    "\n",
    "    # --- Gold Layer ---\n",
    "    gold_df = gold_enrich(\n",
    "        df=silver_df,\n",
    "        model=cfg[\"ollama\"][\"model\"],\n",
    "        system_prompt=cfg[\"ollama\"][\"system\"],\n",
    "        prompt_template=cfg[\"ollama\"][\"prompt\"]\n",
    "    )\n",
    "    save_df(gold_df, cfg[\"data_paths\"][\"gold_output\"])\n",
    "    print(\"✅ Gold layer saved at:\", cfg[\"data_paths\"][\"gold_output\"])\n",
    "\n",
    "if __name__ == \"__main__\":\n",
    "    main()\n"
   ]
  }
 ],
 "metadata": {
  "kernelspec": {
   "display_name": "Python 3",
   "language": "python",
   "name": "python3"
  },
  "language_info": {
   "codemirror_mode": {
    "name": "ipython",
    "version": 3
   },
   "file_extension": ".py",
   "mimetype": "text/x-python",
   "name": "python",
   "nbconvert_exporter": "python",
   "pygments_lexer": "ipython3",
   "version": "3.14.0"
  }
 },
 "nbformat": 4,
 "nbformat_minor": 5
}
