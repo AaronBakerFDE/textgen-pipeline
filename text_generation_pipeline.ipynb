{
 "cells": [
  {
   "cell_type": "code",
   "execution_count": 1,
   "id": "6788ee68-2e7d-4ba6-a987-af4f5eac2620",
   "metadata": {},
   "outputs": [
    {
     "name": "stdout",
     "output_type": "stream",
     "text": [
      "✅ Generated 100 furniture items in:\n",
      "   - data/bronze/products_api1.csv\n",
      "   - data/bronze/products_api2.csv\n",
      "✅ Silver layer saved at: data/silver/clean_products.csv\n"
     ]
    },
    {
     "name": "stderr",
     "output_type": "stream",
     "text": [
      "100%|██████████| 100/100 [53:26<00:00, 32.07s/it] "
     ]
    },
    {
     "name": "stdout",
     "output_type": "stream",
     "text": [
      "✅ Gold layer saved at: data/gold/final_products.csv\n"
     ]
    },
    {
     "name": "stderr",
     "output_type": "stream",
     "text": [
      "\n"
     ]
    }
   ],
   "source": [
    "import pandas as pd\n",
    "from src.utils import load_config, save_df\n",
    "from src.bronze_ingest import bronze_ingest\n",
    "from src.silver_transform import silver_transform\n",
    "from src.gold_enrich import gold_enrich\n",
    "import random\n",
    "\n",
    "# --- Function to generate sample furniture CSVs ---\n",
    "def generate_bronze_data(n=100):\n",
    "\n",
    "    furniture_types = [\"Chair\", \"Sofa\", \"Table\", \"Desk\", \"Bed\", \"Cabinet\", \"Shelf\", \"Stool\"]\n",
    "    materials = [\"Oak\", \"Pine\", \"Metal\", \"Glass\", \"Leather\", \"Fabric\", \"Walnut\", \"Bamboo\"]\n",
    "    adjectives = [\"Elegant\", \"Modern\", \"Rustic\", \"Classic\", \"Compact\", \"Luxurious\", \"Stylish\", \"Durable\"]\n",
    "    features = [\"comfortable\", \"space-saving\", \"ergonomic\", \"sturdy\", \"lightweight\", \"multi-functional\", \"easy to assemble\", \"adjustable\"]\n",
    "\n",
    "    def random_description():\n",
    "        return f\"{random.choice(adjectives)} {random.choice(materials)} {random.choice(furniture_types)} that is {random.choice(features)}.\"\n",
    "\n",
    "    names = []\n",
    "    description_a_list = []\n",
    "    description_b_list = []\n",
    "\n",
    "    for i in range(1, n + 1):\n",
    "        name = f\"{random.choice(adjectives)} {random.choice(furniture_types)} {i}\"\n",
    "        names.append(name)\n",
    "        description_a_list.append(random_description())\n",
    "        description_b_list.append(random_description())\n",
    "\n",
    "    df_a = pd.DataFrame({\n",
    "        \"name\": names,\n",
    "        \"description_a\": description_a_list\n",
    "    })\n",
    "    df_b = pd.DataFrame({\n",
    "        \"name\": names,\n",
    "        \"description_b\": description_b_list\n",
    "    })\n",
    "\n",
    "    df_a.to_csv(\"data/bronze/products_api1.csv\", index=False)\n",
    "    df_b.to_csv(\"data/bronze/products_api2.csv\", index=False)\n",
    "\n",
    "    print(\"✅ Generated 100 furniture items in:\")\n",
    "    print(\"   - data/bronze/products_api1.csv\")\n",
    "    print(\"   - data/bronze/products_api2.csv\")\n",
    "\n",
    "def main():\n",
    "    # Generate sample bronze data\n",
    "    generate_bronze_data(100)\n",
    "    cfg = load_config(\"config/settings.yaml\")\n",
    "\n",
    "    # --- Bronze ---\n",
    "    bronze_df = bronze_ingest(\n",
    "        api1_path=cfg[\"data_paths\"][\"api1_csv\"],\n",
    "        api2_path=cfg[\"data_paths\"][\"api2_csv\"]\n",
    "    )\n",
    "\n",
    "    # --- Silver ---\n",
    "    silver_df = silver_transform(bronze_df)\n",
    "    save_df(silver_df, cfg[\"data_paths\"][\"silver_output\"])\n",
    "    print(\"✅ Silver layer saved at:\", cfg[\"data_paths\"][\"silver_output\"])\n",
    "\n",
    "    # --- Gold ---\n",
    "    gold_df = gold_enrich(\n",
    "        df=silver_df,\n",
    "        model=cfg[\"ollama\"][\"model\"],\n",
    "        system_prompt=cfg[\"ollama\"][\"system\"],\n",
    "        prompt_template=cfg[\"ollama\"][\"prompt\"]\n",
    "    )\n",
    "    save_df(gold_df, cfg[\"data_paths\"][\"gold_output\"])\n",
    "    print(\"✅ Gold layer saved at:\", cfg[\"data_paths\"][\"gold_output\"])\n",
    "\n",
    "if __name__ == \"__main__\":\n",
    "    main()\n",
    "\n"
   ]
  }
 ],
 "metadata": {
  "kernelspec": {
   "display_name": ".venv",
   "language": "python",
   "name": "python3"
  },
  "language_info": {
   "codemirror_mode": {
    "name": "ipython",
    "version": 3
   },
   "file_extension": ".py",
   "mimetype": "text/x-python",
   "name": "python",
   "nbconvert_exporter": "python",
   "pygments_lexer": "ipython3",
   "version": "3.13.5"
  }
 },
 "nbformat": 4,
 "nbformat_minor": 5
}
